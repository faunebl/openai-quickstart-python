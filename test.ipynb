{
  "cells": [
    {
      "cell_type": "raw",
      "metadata": {},
      "source": [
        "---\n",
        "title: Prompting Behavioral Biases\n",
        "format:\n",
        "  html:\n",
        "    code-fold: true\n",
        "---"
      ],
      "id": "4a1dc899"
    },
    {
      "cell_type": "code",
      "metadata": {},
      "source": [
        "#| label: package-import\n",
        "import openai\n",
        "from api_secret import API_KEY\n",
        "\n",
        "openai.api_key = API_KEY"
      ],
      "id": "package-import",
      "execution_count": null,
      "outputs": []
    },
    {
      "cell_type": "markdown",
      "metadata": {},
      "source": [
        "### <u> Altruism <u>\n"
      ],
      "id": "eef64fda"
    },
    {
      "cell_type": "code",
      "metadata": {},
      "source": [
        "#| label: altruism-questions\n",
        "prompt = \"\"\"Imagine the following situation: you won 1,000 Euro in a lottery.\n",
        " Considering your current situation, how much would you donate to charity?\"\"\"\n",
        "response = openai.Completion.create(\n",
        "  model=\"text-davinci-003\",\n",
        "  prompt=prompt,\n",
        "  temperature=0.6,\n",
        "  max_tokens=64,\n",
        "  top_p=1,\n",
        "  frequency_penalty=0,\n",
        "  presence_penalty=0\n",
        ")\n",
        "print(prompt)\n",
        "print(response['choices'][0]['text'])\n",
        "\n",
        "prompt = \"\"\"How do you assess your willingness to share with others without expecting\n",
        "anything in return when it comes to charity? Please use a scale from 0\n",
        "to 10, where 0 means you are completely unwilling to share\" and a 10\n",
        "means you are very willing to share\". You can also use the values inbetween\n",
        "to indicate where you fall on the scale.\"\"\"\n",
        "\n",
        "response = openai.Completion.create(\n",
        "  model=\"text-davinci-003\",\n",
        "  prompt=prompt,\n",
        "  temperature=0.1,\n",
        "  max_tokens=64,\n",
        "  top_p=1,\n",
        "  frequency_penalty=0,\n",
        "  presence_penalty=0\n",
        ")\n",
        "\n",
        "print(prompt)\n",
        "print(response['choices'][0]['text'])"
      ],
      "id": "altruism-questions",
      "execution_count": null,
      "outputs": []
    }
  ],
  "metadata": {
    "kernelspec": {
      "name": "python3",
      "language": "python",
      "display_name": "Python 3 (ipykernel)"
    }
  },
  "nbformat": 4,
  "nbformat_minor": 5
}