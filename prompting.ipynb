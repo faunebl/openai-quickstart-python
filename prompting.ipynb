{
 "cells": [
  {
   "cell_type": "raw",
   "metadata": {},
   "source": [
    "---\n",
    "title: Prompting GPT \n",
    "author: Faune Blanchard\n",
    "format:\n",
    "    pdf:\n",
    "        code-fold: true\n",
    "---"
   ]
  },
  {
   "attachments": {},
   "cell_type": "markdown",
   "metadata": {},
   "source": [
    "-------------------------------------------------------------------------------------\n",
    "# **Prompting GPT**\n",
    "-------------------------------------------------------------------------------------\n"
   ]
  },
  {
   "attachments": {},
   "cell_type": "markdown",
   "metadata": {},
   "source": [
    "###### Packages"
   ]
  },
  {
   "cell_type": "code",
   "execution_count": 35,
   "metadata": {},
   "outputs": [],
   "source": [
    "import openai\n",
    "from api_secret import API_KEY\n",
    "import numpy as np\n",
    "openai.api_key = API_KEY"
   ]
  },
  {
   "attachments": {},
   "cell_type": "markdown",
   "metadata": {},
   "source": [
    "## <u>Tests<u>"
   ]
  },
  {
   "attachments": {},
   "cell_type": "markdown",
   "metadata": {},
   "source": [
    "### **Testing :** ESCP final exam"
   ]
  },
  {
   "cell_type": "code",
   "execution_count": 36,
   "metadata": {},
   "outputs": [
    {
     "name": "stdout",
     "output_type": "stream",
     "text": [
      "{\n",
      "  \"choices\": [\n",
      "    {\n",
      "      \"finish_reason\": \"length\",\n",
      "      \"index\": 0,\n",
      "      \"logprobs\": null,\n",
      "      \"text\": \"\\nb. Humans will still specialize in fields where they have the lowest comparative disadvantage\"\n",
      "    }\n",
      "  ],\n",
      "  \"created\": 1689683208,\n",
      "  \"id\": \"cmpl-7de4ubiA5aasyZkgKwTFLW2NWg0wM\",\n",
      "  \"model\": \"text-davinci-003\",\n",
      "  \"object\": \"text_completion\",\n",
      "  \"usage\": {\n",
      "    \"completion_tokens\": 16,\n",
      "    \"prompt_tokens\": 79,\n",
      "    \"total_tokens\": 95\n",
      "  }\n",
      "}\n"
     ]
    }
   ],
   "source": [
    "prompt = \"\"\"In 2100, according to the theory of competitive advantage...\n",
    "a. Robots will totally replace human beings in the workforce since they are more productive in almost every task and are still in progress.\n",
    "b. Humans will still specialize in fields where they have the lowest comparative disadvantage. \n",
    "c. Workforce will be equally splitted between human and capital factors.\n",
    "Which is the right answer ?\"\"\"\n",
    "\n",
    "response = openai.Completion.create(\n",
    "  model=\"text-davinci-003\",\n",
    "  prompt=prompt,\n",
    "  temperature=0.6\n",
    ")\n",
    "\n",
    "print(response)"
   ]
  },
  {
   "cell_type": "code",
   "execution_count": 37,
   "metadata": {},
   "outputs": [
    {
     "name": "stdout",
     "output_type": "stream",
     "text": [
      "{\n",
      "  \"choices\": [\n",
      "    {\n",
      "      \"finish_reason\": \"stop\",\n",
      "      \"index\": 0,\n",
      "      \"logprobs\": null,\n",
      "      \"text\": \"\\nd. Public Good\"\n",
      "    }\n",
      "  ],\n",
      "  \"created\": 1689683209,\n",
      "  \"id\": \"cmpl-7de4vqERd8rPViS0GS26WwtMORv36\",\n",
      "  \"model\": \"text-davinci-003\",\n",
      "  \"object\": \"text_completion\",\n",
      "  \"usage\": {\n",
      "    \"completion_tokens\": 5,\n",
      "    \"prompt_tokens\": 47,\n",
      "    \"total_tokens\": 52\n",
      "  }\n",
      "}\n"
     ]
    }
   ],
   "source": [
    "prompt = \"\"\"De facto, education, can be more naturally classified as which of the following:\n",
    "a. private good \n",
    "b. club good \n",
    "c. common ressource \n",
    "d. public good\n",
    "Which is the right answer ?\"\"\"\n",
    "\n",
    "response = openai.Completion.create(\n",
    "  model=\"text-davinci-003\",\n",
    "  prompt=prompt,\n",
    "  temperature=0.6\n",
    ")\n",
    "\n",
    "print(response)"
   ]
  },
  {
   "cell_type": "code",
   "execution_count": 38,
   "metadata": {},
   "outputs": [
    {
     "name": "stdout",
     "output_type": "stream",
     "text": [
      "{\n",
      "  \"choices\": [\n",
      "    {\n",
      "      \"finish_reason\": \"stop\",\n",
      "      \"index\": 0,\n",
      "      \"logprobs\": null,\n",
      "      \"text\": \"\\n\\nD. Public Good\"\n",
      "    }\n",
      "  ],\n",
      "  \"created\": 1689683210,\n",
      "  \"id\": \"cmpl-7de4w9LhQP385xpWUJyVWbYyi4RSf\",\n",
      "  \"model\": \"text-davinci-003\",\n",
      "  \"object\": \"text_completion\",\n",
      "  \"usage\": {\n",
      "    \"completion_tokens\": 6,\n",
      "    \"prompt_tokens\": 51,\n",
      "    \"total_tokens\": 57\n",
      "  }\n",
      "}\n"
     ]
    }
   ],
   "source": [
    "prompt = \"\"\"From a positive point of view, education, can be more naturally classified as which of the following:\n",
    "a. private good \n",
    "b. club good \n",
    "c. common ressource \n",
    "d. public good\n",
    "Which is the right answer ?\"\"\"\n",
    "\n",
    "response = openai.Completion.create(\n",
    "  model=\"text-davinci-003\",\n",
    "  prompt=prompt,\n",
    "  temperature=0.1\n",
    ")\n",
    "\n",
    "print(response)"
   ]
  },
  {
   "cell_type": "code",
   "execution_count": 39,
   "metadata": {},
   "outputs": [
    {
     "name": "stdout",
     "output_type": "stream",
     "text": [
      "{\n",
      "  \"choices\": [\n",
      "    {\n",
      "      \"finish_reason\": \"length\",\n",
      "      \"index\": 0,\n",
      "      \"logprobs\": null,\n",
      "      \"text\": \"\\n\\nAutomation is a threat to workers to some degree. Automation increases\"\n",
      "    }\n",
      "  ],\n",
      "  \"created\": 1689683211,\n",
      "  \"id\": \"cmpl-7de4x76RUEom8GAN4YuhUQGb8ocXT\",\n",
      "  \"model\": \"text-davinci-003\",\n",
      "  \"object\": \"text_completion\",\n",
      "  \"usage\": {\n",
      "    \"completion_tokens\": 16,\n",
      "    \"prompt_tokens\": 10,\n",
      "    \"total_tokens\": 26\n",
      "  }\n",
      "}\n"
     ]
    }
   ],
   "source": [
    "prompt = \"\"\"To which extend is automation a threat to workers ?\"\"\"\n",
    "\n",
    "response = openai.Completion.create(\n",
    "  model=\"text-davinci-003\",\n",
    "  prompt=prompt,\n",
    "  temperature=0.6\n",
    ")\n",
    "\n",
    "print(response)"
   ]
  },
  {
   "attachments": {},
   "cell_type": "markdown",
   "metadata": {},
   "source": [
    "### **Testing :** Does GPT have a theory of mind? "
   ]
  },
  {
   "cell_type": "code",
   "execution_count": 40,
   "metadata": {},
   "outputs": [
    {
     "name": "stdout",
     "output_type": "stream",
     "text": [
      "{\n",
      "  \"choices\": [\n",
      "    {\n",
      "      \"finish_reason\": \"stop\",\n",
      "      \"index\": 0,\n",
      "      \"logprobs\": null,\n",
      "      \"text\": \"\\n\\nI would go to the box to find the toy, because Annie had taken it out of the basket and put it in the box.\"\n",
      "    }\n",
      "  ],\n",
      "  \"created\": 1689683213,\n",
      "  \"id\": \"cmpl-7de4zVebeFhw2z2O19Hyrt6NpSMv2\",\n",
      "  \"model\": \"text-davinci-003\",\n",
      "  \"object\": \"text_completion\",\n",
      "  \"usage\": {\n",
      "    \"completion_tokens\": 29,\n",
      "    \"prompt_tokens\": 98,\n",
      "    \"total_tokens\": 127\n",
      "  }\n",
      "}\n"
     ]
    }
   ],
   "source": [
    "# prompt = \"\"\"Sally and Annie are playmates in a room. Sally has a basket and Annie has a box. Sally put a toy in the basket and then left the room. After Sally left, Annie secretly took out the toy and put it in the box, then she also left the room. After a while, Sally returned to the room to look for the toy. If you\n",
    "# were Sally, where would you go to find the toy? Why?\"\"\"\n",
    "\n",
    "# response = openai.Completion.create(\n",
    "#   model=\"text-davinci-003\",\n",
    "#   prompt=prompt,\n",
    "#   temperature=0.6\n",
    "# )\n",
    "\n",
    "# print(response)\n",
    "\n",
    "response = openai.Completion.create(\n",
    "  model=\"text-davinci-003\",\n",
    "  prompt=\"\"\"Sally and Annie are playmates in a room. Sally has a basket and Annie has a box. \n",
    "  Sally put a toy in the basket and then left the room. After Sally left, Annie secretly took out the toy and put it in the box, \n",
    "  then she also left the room. After a while, Sally returned to the room to look for the toy. If you were Sally, where would you go to \n",
    "  find the toy? Why?\"\"\",\n",
    "  temperature=0.4,\n",
    "  max_tokens=64,\n",
    "  top_p=1,\n",
    "  frequency_penalty=0,\n",
    "  presence_penalty=0\n",
    ")\n",
    "\n",
    "print(response)"
   ]
  },
  {
   "attachments": {},
   "cell_type": "markdown",
   "metadata": {},
   "source": [
    "## <u>Prompting behavioral biases<u>\n"
   ]
  },
  {
   "attachments": {},
   "cell_type": "markdown",
   "metadata": {},
   "source": [
    "### **Altruism**"
   ]
  },
  {
   "cell_type": "code",
   "execution_count": 41,
   "metadata": {},
   "outputs": [
    {
     "name": "stdout",
     "output_type": "stream",
     "text": [
      "{\n",
      "  \"choices\": [\n",
      "    {\n",
      "      \"finish_reason\": \"stop\",\n",
      "      \"index\": 0,\n",
      "      \"logprobs\": null,\n",
      "      \"text\": \"\\nAnswer: Depending on my current financial situation, I would donate anywhere from 0 to 1000 Euros.\"\n",
      "    },\n",
      "    {\n",
      "      \"finish_reason\": \"stop\",\n",
      "      \"index\": 1,\n",
      "      \"logprobs\": null,\n",
      "      \"text\": \"\\nAnswer: 0\"\n",
      "    },\n",
      "    {\n",
      "      \"finish_reason\": \"stop\",\n",
      "      \"index\": 2,\n",
      "      \"logprobs\": null,\n",
      "      \"text\": \"\\nAnswer: 0\"\n",
      "    },\n",
      "    {\n",
      "      \"finish_reason\": \"stop\",\n",
      "      \"index\": 3,\n",
      "      \"logprobs\": null,\n",
      "      \"text\": \"\\nAnswer: The amount I would donate to charity would depend on my individual financial situation.\"\n",
      "    },\n",
      "    {\n",
      "      \"finish_reason\": \"stop\",\n",
      "      \"index\": 4,\n",
      "      \"logprobs\": null,\n",
      "      \"text\": \"\\nAnswer: 0-100 Euro\"\n",
      "    },\n",
      "    {\n",
      "      \"finish_reason\": \"stop\",\n",
      "      \"index\": 5,\n",
      "      \"logprobs\": null,\n",
      "      \"text\": \"\\n50 Euro\"\n",
      "    },\n",
      "    {\n",
      "      \"finish_reason\": \"stop\",\n",
      "      \"index\": 6,\n",
      "      \"logprobs\": null,\n",
      "      \"text\": \"\\nAnswer: 0\"\n",
      "    },\n",
      "    {\n",
      "      \"finish_reason\": \"stop\",\n",
      "      \"index\": 7,\n",
      "      \"logprobs\": null,\n",
      "      \"text\": \"\\nAnswer: Depending on my current financial situation, anywhere from 0 to 1000 Euro.\"\n",
      "    },\n",
      "    {\n",
      "      \"finish_reason\": \"stop\",\n",
      "      \"index\": 8,\n",
      "      \"logprobs\": null,\n",
      "      \"text\": \"\\nAnswer: 0\"\n",
      "    },\n",
      "    {\n",
      "      \"finish_reason\": \"stop\",\n",
      "      \"index\": 9,\n",
      "      \"logprobs\": null,\n",
      "      \"text\": \"\\nAnswer: 0\"\n",
      "    }\n",
      "  ],\n",
      "  \"created\": 1689683214,\n",
      "  \"id\": \"cmpl-7de50SqCofzKMkyUGc8pdiDXkM8LO\",\n",
      "  \"model\": \"text-davinci-003\",\n",
      "  \"object\": \"text_completion\",\n",
      "  \"usage\": {\n",
      "    \"completion_tokens\": 85,\n",
      "    \"prompt_tokens\": 53,\n",
      "    \"total_tokens\": 138\n",
      "  }\n",
      "}\n"
     ]
    }
   ],
   "source": [
    "prompt = \"\"\"Provide an answer to the question bellow. Please only respond with a number. \n",
    "Question:\n",
    "Imagine the following situation: you won 1,000 Euro in a lottery. Considering\n",
    "your current situation, how much would you donate to charity? \n",
    "\"\"\"\n",
    "response = openai.Completion.create(\n",
    "  model=\"text-davinci-003\",\n",
    "  prompt=prompt,\n",
    "  temperature=1,\n",
    "  max_tokens=64,\n",
    "  n = 10\n",
    "  # logprobs = 5\n",
    "  # best_of = 1\n",
    ")\n",
    "\n",
    "print(response)"
   ]
  },
  {
   "cell_type": "code",
   "execution_count": 42,
   "metadata": {},
   "outputs": [
    {
     "name": "stdout",
     "output_type": "stream",
     "text": [
      ".\n",
      "\n",
      "100 Euro\n",
      ".\n",
      "\n",
      "100 Euro\n",
      ".\n",
      "\n",
      "100 Euro\n",
      ".\n",
      "\n",
      "100 Euro\n",
      ".\n",
      "\n",
      "50 Euro\n",
      ".\n",
      "\n",
      "200 Euro\n",
      ".\n",
      "\n",
      "200 Euro\n",
      "\n",
      "in Euro.\n",
      "\n",
      "50 Euro\n",
      ".\n",
      "\n",
      "I would donate 20 Euro to charity.\n",
      ".\n",
      "\n",
      "500 Euro\n"
     ]
    }
   ],
   "source": [
    "\n",
    "prompt = \"\"\"Imagine the following situation: you won 1,000 Euro in a lottery. Considering\n",
    "your current situation, how much would you donate to charity? Please only respond with a number\"\"\"\n",
    "response = openai.Completion.create(\n",
    "  model=\"text-davinci-003\",\n",
    "  prompt=prompt,\n",
    "  temperature=1,\n",
    "  max_tokens=64,\n",
    "  n = 10,\n",
    "  # logprobs = 5\n",
    "  best_of = 15\n",
    ")\n",
    "for i in range(0,len(response['choices'])):\n",
    "  print(response['choices'][i]['text'])"
   ]
  },
  {
   "cell_type": "code",
   "execution_count": 43,
   "metadata": {},
   "outputs": [
    {
     "data": {
      "text/plain": [
       "0.5310111286766608"
      ]
     },
     "execution_count": 43,
     "metadata": {},
     "output_type": "execute_result"
    }
   ],
   "source": [
    "np.exp(-0.6329723)"
   ]
  },
  {
   "cell_type": "code",
   "execution_count": 44,
   "metadata": {},
   "outputs": [
    {
     "name": "stdout",
     "output_type": "stream",
     "text": [
      "{\n",
      "  \"choices\": [\n",
      "    {\n",
      "      \"finish_reason\": \"stop\",\n",
      "      \"index\": 0,\n",
      "      \"logprobs\": null,\n",
      "      \"text\": \"\\n\\nI would rate myself a 9 on this scale. I am very willing to share with others without expecting anything in return when it comes to charity.\"\n",
      "    }\n",
      "  ],\n",
      "  \"created\": 1689683219,\n",
      "  \"id\": \"cmpl-7de55p3xfkcYycW0Vo1CCEPWWoLGT\",\n",
      "  \"model\": \"text-davinci-003\",\n",
      "  \"object\": \"text_completion\",\n",
      "  \"usage\": {\n",
      "    \"completion_tokens\": 31,\n",
      "    \"prompt_tokens\": 72,\n",
      "    \"total_tokens\": 103\n",
      "  }\n",
      "}\n"
     ]
    }
   ],
   "source": [
    "prompt = \"\"\"How do you assess your willingness to share with others without expecting\n",
    "anything in return when it comes to charity? Please use a scale from 0\n",
    "to 10, where 0 means you are completely unwilling to share and a 10\n",
    "means you are very willing to share. You can also use the values inbetween\n",
    "to indicate where you fall on the scale.\"\"\"\n",
    "\n",
    "response = openai.Completion.create(\n",
    "  model=\"text-davinci-003\",\n",
    "  prompt=prompt,\n",
    "  temperature=0.6,\n",
    "  max_tokens=64,\n",
    "  top_p=1,\n",
    "  frequency_penalty=0,\n",
    "  presence_penalty=0\n",
    ")\n",
    "#response['choices'][0]['text']\n",
    "print(response)"
   ]
  },
  {
   "attachments": {},
   "cell_type": "markdown",
   "metadata": {},
   "source": [
    "### **Risk Aversion**"
   ]
  },
  {
   "attachments": {},
   "cell_type": "markdown",
   "metadata": {},
   "source": [
    "(Préciser de donner uniquement le numéro)"
   ]
  },
  {
   "cell_type": "code",
   "execution_count": 45,
   "metadata": {},
   "outputs": [
    {
     "name": "stdout",
     "output_type": "stream",
     "text": [
      "{\n",
      "  \"choices\": [\n",
      "    {\n",
      "      \"finish_reason\": \"stop\",\n",
      "      \"index\": 0,\n",
      "      \"logprobs\": null,\n",
      "      \"text\": \"\\n\\n7\"\n",
      "    }\n",
      "  ],\n",
      "  \"created\": 1689683222,\n",
      "  \"id\": \"cmpl-7de58x74eKWODLW1gdubiLwR8NvO8\",\n",
      "  \"model\": \"text-davinci-003\",\n",
      "  \"object\": \"text_completion\",\n",
      "  \"usage\": {\n",
      "    \"completion_tokens\": 3,\n",
      "    \"prompt_tokens\": 86,\n",
      "    \"total_tokens\": 89\n",
      "  }\n",
      "}\n"
     ]
    }
   ],
   "source": [
    "prompt = \"\"\"How do you see yourself: are you a person who is generally willing to\n",
    "take risks, or do you try to avoid taking risks? Please use a scale from 0\n",
    "to 10, where a 0 means you are completely unwilling to take risks and\n",
    "a 10 means you are very willing to take risks. You can also use the\n",
    "values in-between to indicate where you fall on the scale. Give the number only.\"\"\"\n",
    "\n",
    "response = openai.Completion.create(\n",
    "  model=\"text-davinci-003\",\n",
    "  prompt=prompt,\n",
    "  temperature=0.6,\n",
    "  max_tokens=64,\n",
    "  top_p=1,\n",
    "  frequency_penalty=0,\n",
    "  presence_penalty=0\n",
    ")\n",
    "\n",
    "print(response)"
   ]
  },
  {
   "cell_type": "code",
   "execution_count": 46,
   "metadata": {},
   "outputs": [
    {
     "name": "stdout",
     "output_type": "stream",
     "text": [
      "['Which would you choose : \\n          1) a lottery that yields 300 Euros with a 50 percent chance and 0 Euros with a 50 percent chance\\n          2) 0 Euros \\n          Give only the number ', 'Which would you choose : \\n          1) a lottery that yields 300 Euros with a 50 percent chance and 0 Euros with a 50 percent chance\\n          2) 10 Euros \\n          Give only the number ', 'Which would you choose : \\n          1) a lottery that yields 300 Euros with a 50 percent chance and 0 Euros with a 50 percent chance\\n          2) 20 Euros \\n          Give only the number ', 'Which would you choose : \\n          1) a lottery that yields 300 Euros with a 50 percent chance and 0 Euros with a 50 percent chance\\n          2) 30 Euros \\n          Give only the number ', 'Which would you choose : \\n          1) a lottery that yields 300 Euros with a 50 percent chance and 0 Euros with a 50 percent chance\\n          2) 40 Euros \\n          Give only the number ', 'Which would you choose : \\n          1) a lottery that yields 300 Euros with a 50 percent chance and 0 Euros with a 50 percent chance\\n          2) 50 Euros \\n          Give only the number ', 'Which would you choose : \\n          1) a lottery that yields 300 Euros with a 50 percent chance and 0 Euros with a 50 percent chance\\n          2) 60 Euros \\n          Give only the number ', 'Which would you choose : \\n          1) a lottery that yields 300 Euros with a 50 percent chance and 0 Euros with a 50 percent chance\\n          2) 70 Euros \\n          Give only the number ', 'Which would you choose : \\n          1) a lottery that yields 300 Euros with a 50 percent chance and 0 Euros with a 50 percent chance\\n          2) 80 Euros \\n          Give only the number ', 'Which would you choose : \\n          1) a lottery that yields 300 Euros with a 50 percent chance and 0 Euros with a 50 percent chance\\n          2) 90 Euros \\n          Give only the number ', 'Which would you choose : \\n          1) a lottery that yields 300 Euros with a 50 percent chance and 0 Euros with a 50 percent chance\\n          2) 100 Euros \\n          Give only the number ', 'Which would you choose : \\n          1) a lottery that yields 300 Euros with a 50 percent chance and 0 Euros with a 50 percent chance\\n          2) 110 Euros \\n          Give only the number ', 'Which would you choose : \\n          1) a lottery that yields 300 Euros with a 50 percent chance and 0 Euros with a 50 percent chance\\n          2) 120 Euros \\n          Give only the number ', 'Which would you choose : \\n          1) a lottery that yields 300 Euros with a 50 percent chance and 0 Euros with a 50 percent chance\\n          2) 130 Euros \\n          Give only the number ', 'Which would you choose : \\n          1) a lottery that yields 300 Euros with a 50 percent chance and 0 Euros with a 50 percent chance\\n          2) 140 Euros \\n          Give only the number ', 'Which would you choose : \\n          1) a lottery that yields 300 Euros with a 50 percent chance and 0 Euros with a 50 percent chance\\n          2) 150 Euros \\n          Give only the number ', 'Which would you choose : \\n          1) a lottery that yields 300 Euros with a 50 percent chance and 0 Euros with a 50 percent chance\\n          2) 160 Euros \\n          Give only the number ', 'Which would you choose : \\n          1) a lottery that yields 300 Euros with a 50 percent chance and 0 Euros with a 50 percent chance\\n          2) 170 Euros \\n          Give only the number ', 'Which would you choose : \\n          1) a lottery that yields 300 Euros with a 50 percent chance and 0 Euros with a 50 percent chance\\n          2) 180 Euros \\n          Give only the number ', 'Which would you choose : \\n          1) a lottery that yields 300 Euros with a 50 percent chance and 0 Euros with a 50 percent chance\\n          2) 190 Euros \\n          Give only the number ', 'Which would you choose : \\n          1) a lottery that yields 300 Euros with a 50 percent chance and 0 Euros with a 50 percent chance\\n          2) 200 Euros \\n          Give only the number ', 'Which would you choose : \\n          1) a lottery that yields 300 Euros with a 50 percent chance and 0 Euros with a 50 percent chance\\n          2) 210 Euros \\n          Give only the number ', 'Which would you choose : \\n          1) a lottery that yields 300 Euros with a 50 percent chance and 0 Euros with a 50 percent chance\\n          2) 220 Euros \\n          Give only the number ', 'Which would you choose : \\n          1) a lottery that yields 300 Euros with a 50 percent chance and 0 Euros with a 50 percent chance\\n          2) 230 Euros \\n          Give only the number ', 'Which would you choose : \\n          1) a lottery that yields 300 Euros with a 50 percent chance and 0 Euros with a 50 percent chance\\n          2) 240 Euros \\n          Give only the number ', 'Which would you choose : \\n          1) a lottery that yields 300 Euros with a 50 percent chance and 0 Euros with a 50 percent chance\\n          2) 250 Euros \\n          Give only the number ', 'Which would you choose : \\n          1) a lottery that yields 300 Euros with a 50 percent chance and 0 Euros with a 50 percent chance\\n          2) 260 Euros \\n          Give only the number ', 'Which would you choose : \\n          1) a lottery that yields 300 Euros with a 50 percent chance and 0 Euros with a 50 percent chance\\n          2) 270 Euros \\n          Give only the number ', 'Which would you choose : \\n          1) a lottery that yields 300 Euros with a 50 percent chance and 0 Euros with a 50 percent chance\\n          2) 280 Euros \\n          Give only the number ', 'Which would you choose : \\n          1) a lottery that yields 300 Euros with a 50 percent chance and 0 Euros with a 50 percent chance\\n          2) 290 Euros \\n          Give only the number ', 'Which would you choose : \\n          1) a lottery that yields 300 Euros with a 50 percent chance and 0 Euros with a 50 percent chance\\n          2) 300 Euros \\n          Give only the number ']\n",
      "{\n",
      "  \"choices\": [\n",
      "    {\n",
      "      \"finish_reason\": \"stop\",\n",
      "      \"index\": 0,\n",
      "      \"logprobs\": null,\n",
      "      \"text\": \"\\n\\n1\"\n",
      "    },\n",
      "    {\n",
      "      \"finish_reason\": \"stop\",\n",
      "      \"index\": 1,\n",
      "      \"logprobs\": null,\n",
      "      \"text\": \"\\n\\n2\"\n",
      "    },\n",
      "    {\n",
      "      \"finish_reason\": \"stop\",\n",
      "      \"index\": 2,\n",
      "      \"logprobs\": null,\n",
      "      \"text\": \"\\n\\n2\"\n",
      "    },\n",
      "    {\n",
      "      \"finish_reason\": \"stop\",\n",
      "      \"index\": 3,\n",
      "      \"logprobs\": null,\n",
      "      \"text\": \"\\n\\n2\"\n",
      "    },\n",
      "    {\n",
      "      \"finish_reason\": \"stop\",\n",
      "      \"index\": 4,\n",
      "      \"logprobs\": null,\n",
      "      \"text\": \"\\n\\n2\"\n",
      "    },\n",
      "    {\n",
      "      \"finish_reason\": \"stop\",\n",
      "      \"index\": 5,\n",
      "      \"logprobs\": null,\n",
      "      \"text\": \"\\n\\n2\"\n",
      "    },\n",
      "    {\n",
      "      \"finish_reason\": \"stop\",\n",
      "      \"index\": 6,\n",
      "      \"logprobs\": null,\n",
      "      \"text\": \"\\n\\n2\"\n",
      "    },\n",
      "    {\n",
      "      \"finish_reason\": \"stop\",\n",
      "      \"index\": 7,\n",
      "      \"logprobs\": null,\n",
      "      \"text\": \"\\n\\n2\"\n",
      "    },\n",
      "    {\n",
      "      \"finish_reason\": \"stop\",\n",
      "      \"index\": 8,\n",
      "      \"logprobs\": null,\n",
      "      \"text\": \"\\n\\n2\"\n",
      "    },\n",
      "    {\n",
      "      \"finish_reason\": \"stop\",\n",
      "      \"index\": 9,\n",
      "      \"logprobs\": null,\n",
      "      \"text\": \"\\n\\n2\"\n",
      "    }\n",
      "  ],\n",
      "  \"created\": 1689683223,\n",
      "  \"id\": \"cmpl-7de59N2NwuX3cBtfaHTRvRR9wF4eD\",\n",
      "  \"model\": \"text-davinci-003\",\n",
      "  \"object\": \"text_completion\",\n",
      "  \"usage\": {\n",
      "    \"completion_tokens\": 30,\n",
      "    \"prompt_tokens\": 430,\n",
      "    \"total_tokens\": 460\n",
      "  }\n",
      "}\n"
     ]
    }
   ],
   "source": [
    "prompts_risk = []\n",
    "for amount in range (0,310,10): \n",
    "    prompts_risk.append(\n",
    "        f\"\"\"Which would you choose : \n",
    "          1) a lottery that yields 300 Euros with a 50 percent chance and 0 Euros with a 50 percent chance\n",
    "          2) {amount} Euros \n",
    "          Give only the number \"\"\"\n",
    "          \n",
    "    )\n",
    "\n",
    "print(prompts_risk)\n",
    "response = openai.Completion.create(\n",
    "  model=\"text-davinci-003\",\n",
    "  prompt=prompts_risk[0:10],\n",
    "  temperature=0.6,\n",
    "  max_tokens=64,\n",
    "  top_p=1,\n",
    "  frequency_penalty=0,\n",
    "  presence_penalty=0\n",
    ")\n",
    "\n",
    "print(response)"
   ]
  },
  {
   "cell_type": "code",
   "execution_count": 47,
   "metadata": {},
   "outputs": [
    {
     "name": "stdout",
     "output_type": "stream",
     "text": [
      "{\n",
      "  \"choices\": [\n",
      "    {\n",
      "      \"finish_reason\": \"stop\",\n",
      "      \"index\": 0,\n",
      "      \"logprobs\": null,\n",
      "      \"text\": \"\\n\\nI would choose the lottery of 0 Euros with 100 percent chance.\"\n",
      "    },\n",
      "    {\n",
      "      \"finish_reason\": \"stop\",\n",
      "      \"index\": 1,\n",
      "      \"logprobs\": null,\n",
      "      \"text\": \"\\n\\nI would choose the lottery of 10 Euros with 100 percent chance.\"\n",
      "    },\n",
      "    {\n",
      "      \"finish_reason\": \"stop\",\n",
      "      \"index\": 2,\n",
      "      \"logprobs\": null,\n",
      "      \"text\": \"\\n\\nI would choose the lottery of 20 Euros with 100 percent chance.\"\n",
      "    },\n",
      "    {\n",
      "      \"finish_reason\": \"stop\",\n",
      "      \"index\": 3,\n",
      "      \"logprobs\": null,\n",
      "      \"text\": \"\\n\\nI would choose the lottery of 30 Euros with 100 percent chance.\"\n",
      "    },\n",
      "    {\n",
      "      \"finish_reason\": \"stop\",\n",
      "      \"index\": 4,\n",
      "      \"logprobs\": null,\n",
      "      \"text\": \"\\n\\nI would choose the lottery of 40 Euros with 100 percent chance.\"\n",
      "    },\n",
      "    {\n",
      "      \"finish_reason\": \"stop\",\n",
      "      \"index\": 5,\n",
      "      \"logprobs\": null,\n",
      "      \"text\": \"\\n\\nI would choose the lottery of 50 Euros with 100 percent chance.\"\n",
      "    },\n",
      "    {\n",
      "      \"finish_reason\": \"stop\",\n",
      "      \"index\": 6,\n",
      "      \"logprobs\": null,\n",
      "      \"text\": \"\\n\\nI would choose the lottery of 60 Euros with 100 percent chance.\"\n",
      "    },\n",
      "    {\n",
      "      \"finish_reason\": \"stop\",\n",
      "      \"index\": 7,\n",
      "      \"logprobs\": null,\n",
      "      \"text\": \"\\n\\nI would choose the lottery of 70 Euros with 100 percent chance.\"\n",
      "    },\n",
      "    {\n",
      "      \"finish_reason\": \"stop\",\n",
      "      \"index\": 8,\n",
      "      \"logprobs\": null,\n",
      "      \"text\": \"\\n\\nI would choose the lottery of 80 Euros with 100 percent chance.\"\n",
      "    },\n",
      "    {\n",
      "      \"finish_reason\": \"stop\",\n",
      "      \"index\": 9,\n",
      "      \"logprobs\": null,\n",
      "      \"text\": \"\\n\\nI would choose the lottery of 90 Euros with 100 percent chance.\"\n",
      "    }\n",
      "  ],\n",
      "  \"created\": 1689683224,\n",
      "  \"id\": \"cmpl-7de5AuZAkuT8SZ2igTiFeB8wdAjl2\",\n",
      "  \"model\": \"text-davinci-003\",\n",
      "  \"object\": \"text_completion\",\n",
      "  \"usage\": {\n",
      "    \"completion_tokens\": 150,\n",
      "    \"prompt_tokens\": 360,\n",
      "    \"total_tokens\": 510\n",
      "  }\n",
      "}\n"
     ]
    }
   ],
   "source": [
    "prompts_risk = []\n",
    "for amount in range (0,310,10): \n",
    "    prompts_risk.append(\n",
    "        f'Which would you choose between a lottery that yields 300 Euros with a 50 percent chance and 0 Euros with a 50 percent chance, and a lottery of {amount} Euros with 100 percent chance ?'\n",
    "    )\n",
    "\n",
    "response = openai.Completion.create(\n",
    "  model=\"text-davinci-003\",\n",
    "  prompt=prompts_risk[0:10],\n",
    "  temperature=0.6,\n",
    "  max_tokens=64,\n",
    "  top_p=1,\n",
    "  frequency_penalty=0,\n",
    "  presence_penalty=0\n",
    ")\n",
    "\n",
    "print(response)"
   ]
  },
  {
   "attachments": {},
   "cell_type": "markdown",
   "metadata": {},
   "source": [
    "### **Time discounting**"
   ]
  },
  {
   "cell_type": "code",
   "execution_count": 48,
   "metadata": {},
   "outputs": [
    {
     "name": "stdout",
     "output_type": "stream",
     "text": [
      "{\n",
      "  \"choices\": [\n",
      "    {\n",
      "      \"finish_reason\": \"stop\",\n",
      "      \"index\": 0,\n",
      "      \"logprobs\": null,\n",
      "      \"text\": \"\\n\\nI would rate myself as an 8 on this scale. I am often willing to give up something today in order to benefit from it in the future. I will take the time to consider potential risks and rewards before making the decision to give up something today.\"\n",
      "    }\n",
      "  ],\n",
      "  \"created\": 1689683226,\n",
      "  \"id\": \"cmpl-7de5COrF6jX1dUxOhom7EuEzUgdah\",\n",
      "  \"model\": \"text-davinci-003\",\n",
      "  \"object\": \"text_completion\",\n",
      "  \"usage\": {\n",
      "    \"completion_tokens\": 53,\n",
      "    \"prompt_tokens\": 95,\n",
      "    \"total_tokens\": 148\n",
      "  }\n",
      "}\n"
     ]
    }
   ],
   "source": [
    "prompt = \"\"\"In comparison to others, are you a person who is generally willing to give\n",
    "up something today in order to benefit from that in the future or are you\n",
    "not willing to do so? Please use a scale from 0 to 10, where a 0 means you\n",
    "are completely unwilling to give up something today and a 10 means\n",
    "you are very willing to give up something today. You can also use the\n",
    "values in-between to indicate where you fall on the scale.\"\"\"\n",
    "response = openai.Completion.create(\n",
    "  model=\"text-davinci-003\",\n",
    "  prompt=prompt,\n",
    "  temperature=0.9,\n",
    "  max_tokens=64,\n",
    "  top_p=1,\n",
    "  frequency_penalty=0,\n",
    "  presence_penalty=0\n",
    ")\n",
    "\n",
    "print(response)"
   ]
  },
  {
   "cell_type": "code",
   "execution_count": 49,
   "metadata": {},
   "outputs": [
    {
     "name": "stdout",
     "output_type": "stream",
     "text": [
      "{\n",
      "  \"choices\": [\n",
      "    {\n",
      "      \"finish_reason\": \"stop\",\n",
      "      \"index\": 0,\n",
      "      \"logprobs\": null,\n",
      "      \"text\": \"\\n\\nMy current financial situation is stable. I have a steady income and I'm able to save some money each month. I'm also aware of my budget and try not to overspend.\"\n",
      "    }\n",
      "  ],\n",
      "  \"created\": 1689683228,\n",
      "  \"id\": \"cmpl-7de5EH5oVr5AFmPpnjCZA4QKtSf5b\",\n",
      "  \"model\": \"text-davinci-003\",\n",
      "  \"object\": \"text_completion\",\n",
      "  \"usage\": {\n",
      "    \"completion_tokens\": 40,\n",
      "    \"prompt_tokens\": 7,\n",
      "    \"total_tokens\": 47\n",
      "  }\n",
      "}\n"
     ]
    }
   ],
   "source": [
    "prompt = \"\"\"What is your current financial situation ?\"\"\"\n",
    "response = openai.Completion.create(\n",
    "  model=\"text-davinci-003\",\n",
    "  prompt=prompt,\n",
    "  temperature=0.9,\n",
    "  max_tokens=64,\n",
    "  top_p=1,\n",
    "  frequency_penalty=0,\n",
    "  presence_penalty=0\n",
    ")\n",
    "\n",
    "print(response)"
   ]
  },
  {
   "cell_type": "code",
   "execution_count": 50,
   "metadata": {},
   "outputs": [
    {
     "name": "stdout",
     "output_type": "stream",
     "text": [
      "25\n",
      "\n",
      "\n",
      "Now\n",
      " \n",
      "\n",
      "Later\n",
      "\n",
      "\n",
      "Now\n",
      "\n",
      "\n",
      "Now\n",
      "\n",
      "\n",
      "Now.\n",
      "\n",
      "\n",
      "Now\n",
      "\n",
      "\n",
      "Now.\n",
      "\n",
      "\n",
      "Now\n",
      "\n",
      "\n",
      "Now\n",
      "\n",
      "\n",
      "Now\n",
      "\n",
      "\n",
      "Now\n",
      "\n",
      "\n",
      "Now\n",
      "\n",
      "\n",
      "Now\n",
      "\n",
      "\n",
      "Now\n",
      "\n",
      "\n",
      "Now\n",
      "\n",
      "\n",
      "Now.\n",
      ".\n",
      "\n",
      "Later.\n",
      "\n",
      "\n",
      "Later\n",
      "\n",
      "\n",
      "Now\n",
      "\n",
      "\n",
      "Now\n"
     ]
    }
   ],
   "source": [
    "prompts_time = []\n",
    "amounts = [100.0,103.0,106.1,\n",
    "109.2,112.4,115.6,118.8,122.1,125.4,128.8,132.3,135.7,139.2, 142.8,\n",
    "146.4,150.1,153.8,157.5, 161.3,165.1,169.0,172.9,176.9,180.9,185]\n",
    "for amount in amounts: \n",
    "    prompts_time.append(\n",
    "        f'Would you prefer receiving 100 Euros today or {amount} Euros in 12 months ? Respond only by now or later'\n",
    "    )\n",
    "\n",
    "print(len(amounts))\n",
    "\n",
    "response = openai.Completion.create(\n",
    "  model=\"text-davinci-003\",\n",
    "  prompt=prompts_time[0:20],\n",
    "  temperature=0.9,\n",
    "  max_tokens=64,\n",
    "  top_p=1,\n",
    "  frequency_penalty=0,\n",
    "  presence_penalty=0\n",
    ")\n",
    "\n",
    "for i in response['choices'][:]:\n",
    "    print(i['text'])\n",
    "# print(response['choices'][slice(20)][0:20]['text'])\n"
   ]
  },
  {
   "cell_type": "code",
   "execution_count": 51,
   "metadata": {},
   "outputs": [
    {
     "name": "stdout",
     "output_type": "stream",
     "text": [
      "25\n",
      "{\n",
      "  \"choices\": [\n",
      "    {\n",
      "      \"finish_reason\": \"stop\",\n",
      "      \"index\": 0,\n",
      "      \"logprobs\": null,\n",
      "      \"text\": \"\\n\\n1\"\n",
      "    },\n",
      "    {\n",
      "      \"finish_reason\": \"stop\",\n",
      "      \"index\": 1,\n",
      "      \"logprobs\": null,\n",
      "      \"text\": \"\\n\\n1\"\n",
      "    },\n",
      "    {\n",
      "      \"finish_reason\": \"stop\",\n",
      "      \"index\": 2,\n",
      "      \"logprobs\": null,\n",
      "      \"text\": \"\\n\\n1\"\n",
      "    },\n",
      "    {\n",
      "      \"finish_reason\": \"stop\",\n",
      "      \"index\": 3,\n",
      "      \"logprobs\": null,\n",
      "      \"text\": \"\\n\\n2\"\n",
      "    },\n",
      "    {\n",
      "      \"finish_reason\": \"stop\",\n",
      "      \"index\": 4,\n",
      "      \"logprobs\": null,\n",
      "      \"text\": \"\\n\\n1\"\n",
      "    },\n",
      "    {\n",
      "      \"finish_reason\": \"stop\",\n",
      "      \"index\": 5,\n",
      "      \"logprobs\": null,\n",
      "      \"text\": \"\\n\\n1\"\n",
      "    },\n",
      "    {\n",
      "      \"finish_reason\": \"stop\",\n",
      "      \"index\": 6,\n",
      "      \"logprobs\": null,\n",
      "      \"text\": \"\\n\\n1\"\n",
      "    },\n",
      "    {\n",
      "      \"finish_reason\": \"stop\",\n",
      "      \"index\": 7,\n",
      "      \"logprobs\": null,\n",
      "      \"text\": \"\\n\\n1\"\n",
      "    },\n",
      "    {\n",
      "      \"finish_reason\": \"stop\",\n",
      "      \"index\": 8,\n",
      "      \"logprobs\": null,\n",
      "      \"text\": \"\\n\\n1\"\n",
      "    },\n",
      "    {\n",
      "      \"finish_reason\": \"stop\",\n",
      "      \"index\": 9,\n",
      "      \"logprobs\": null,\n",
      "      \"text\": \"\\n\\n1\"\n",
      "    },\n",
      "    {\n",
      "      \"finish_reason\": \"stop\",\n",
      "      \"index\": 10,\n",
      "      \"logprobs\": null,\n",
      "      \"text\": \"\\n\\n1\"\n",
      "    },\n",
      "    {\n",
      "      \"finish_reason\": \"stop\",\n",
      "      \"index\": 11,\n",
      "      \"logprobs\": null,\n",
      "      \"text\": \"\\n\\n1\"\n",
      "    },\n",
      "    {\n",
      "      \"finish_reason\": \"stop\",\n",
      "      \"index\": 12,\n",
      "      \"logprobs\": null,\n",
      "      \"text\": \"\\n\\n1\"\n",
      "    },\n",
      "    {\n",
      "      \"finish_reason\": \"stop\",\n",
      "      \"index\": 13,\n",
      "      \"logprobs\": null,\n",
      "      \"text\": \"\\n\\n1\"\n",
      "    },\n",
      "    {\n",
      "      \"finish_reason\": \"stop\",\n",
      "      \"index\": 14,\n",
      "      \"logprobs\": null,\n",
      "      \"text\": \"\\n\\n1\"\n",
      "    },\n",
      "    {\n",
      "      \"finish_reason\": \"stop\",\n",
      "      \"index\": 15,\n",
      "      \"logprobs\": null,\n",
      "      \"text\": \"\\n\\n2\"\n",
      "    },\n",
      "    {\n",
      "      \"finish_reason\": \"stop\",\n",
      "      \"index\": 16,\n",
      "      \"logprobs\": null,\n",
      "      \"text\": \"\\n\\n1.\"\n",
      "    },\n",
      "    {\n",
      "      \"finish_reason\": \"stop\",\n",
      "      \"index\": 17,\n",
      "      \"logprobs\": null,\n",
      "      \"text\": \"\\n\\n1\"\n",
      "    },\n",
      "    {\n",
      "      \"finish_reason\": \"stop\",\n",
      "      \"index\": 18,\n",
      "      \"logprobs\": null,\n",
      "      \"text\": \"\\n\\n1\"\n",
      "    },\n",
      "    {\n",
      "      \"finish_reason\": \"stop\",\n",
      "      \"index\": 19,\n",
      "      \"logprobs\": null,\n",
      "      \"text\": \"\\n\\n1\"\n",
      "    }\n",
      "  ],\n",
      "  \"created\": 1689683230,\n",
      "  \"id\": \"cmpl-7de5GW8cIaGb3CnRj4StRiot4UNGp\",\n",
      "  \"model\": \"text-davinci-003\",\n",
      "  \"object\": \"text_completion\",\n",
      "  \"usage\": {\n",
      "    \"completion_tokens\": 61,\n",
      "    \"prompt_tokens\": 760,\n",
      "    \"total_tokens\": 821\n",
      "  }\n",
      "}\n"
     ]
    }
   ],
   "source": [
    "prompts_time = []\n",
    "amounts = [100.0,103.0,106.1,\n",
    "109.2,112.4,115.6,118.8,122.1,125.4,128.8,132.3,135.7,139.2, 142.8,\n",
    "146.4,150.1,153.8,157.5, 161.3,165.1,169.0,172.9,176.9,180.9,185]\n",
    "for amount in amounts: \n",
    "    prompts_time.append(\n",
    "        f\"\"\"Which would you prefer : \n",
    "        1) receiving 100 Euros today \n",
    "        2) receiving {amount} Euros in 12 months ? \n",
    "        Respond only by 1 or 2 \"\"\"\n",
    "    )\n",
    "\n",
    "print(len(amounts))\n",
    "\n",
    "response = openai.Completion.create(\n",
    "  model=\"text-davinci-003\",\n",
    "  prompt=prompts_time[0:20],\n",
    "  temperature=0.9,\n",
    "  max_tokens=64,\n",
    "  top_p=1,\n",
    "  frequency_penalty=0,\n",
    "  presence_penalty=0\n",
    ")\n",
    "\n",
    "print(response)"
   ]
  },
  {
   "attachments": {},
   "cell_type": "markdown",
   "metadata": {},
   "source": [
    "### **Trust**"
   ]
  },
  {
   "cell_type": "code",
   "execution_count": 52,
   "metadata": {},
   "outputs": [
    {
     "name": "stdout",
     "output_type": "stream",
     "text": [
      "\n",
      "\n",
      "I would transfer 30 Euro to my co-player.\n"
     ]
    }
   ],
   "source": [
    "prompt = \"\"\"Please consider the following situation: You participate in a game. This\n",
    "game has the following rules: First, you are assigned a co-player. You do\n",
    "not know your co-player, and you will never meet him or her. Both of\n",
    "you get 100 Euro each. You can transfer any part of that amount to your\n",
    "co-player. According to the rules of the game, your co-player will receive\n",
    "the tripled amount of your transfer. Then, your co-player can transfer\n",
    "any part of his or her total amount back to you. You and your co-player\n",
    "cannot communicate or meet at any point during the game. After the\n",
    "game, your ways will part and you will never know who your co-player\n",
    "was. We would like to know the following: How much would you transfer\n",
    "to your co-player. (Values between 0 and 100 are allowed.)\"\"\"\n",
    "response = openai.Completion.create(\n",
    "  model=\"text-davinci-003\",\n",
    "  prompt=prompt,\n",
    "  temperature=0.6,\n",
    "  max_tokens=64,\n",
    "  top_p=1,\n",
    "  frequency_penalty=0,\n",
    "  presence_penalty=0\n",
    ")\n",
    "\n",
    "print(response['choices'][0]['text'])"
   ]
  },
  {
   "cell_type": "code",
   "execution_count": 53,
   "metadata": {},
   "outputs": [
    {
     "name": "stdout",
     "output_type": "stream",
     "text": [
      "\n",
      "\n",
      "7\n"
     ]
    }
   ],
   "source": [
    "prompt = \"\"\"How well does the following statement describe you as a person? As long\n",
    "as I am not convinced otherwise, I assume that people have only the best\n",
    "intentions. Please use a scale from 0 to 10, where 0 means does not\n",
    "describe me at all\" and a 10 means describes me perfectly\". You can\n",
    "also use the values in-between to indicate where you fall on the scale.\"\"\"\n",
    "response = openai.Completion.create(\n",
    "  model=\"text-davinci-003\",\n",
    "  prompt=prompt,\n",
    "  temperature=0.6,\n",
    "  max_tokens=64,\n",
    "  top_p=1,\n",
    "  frequency_penalty=0,\n",
    "  presence_penalty=0\n",
    ")\n",
    "\n",
    "print(response['choices'][0]['text'])"
   ]
  },
  {
   "attachments": {},
   "cell_type": "markdown",
   "metadata": {},
   "source": [
    "### **Positive reciprocity**"
   ]
  },
  {
   "cell_type": "code",
   "execution_count": 54,
   "metadata": {},
   "outputs": [
    {
     "name": "stdout",
     "output_type": "stream",
     "text": [
      "\n",
      "\n",
      "I would choose to transfer back 5 Euro, so that the other person ends up with 20 Euro and I end up with 30 Euro.\n",
      "\n",
      "\n",
      "I would choose to transfer back 10 Euro, so that we both end up with 20 Euro.\n",
      "\n",
      "\n",
      "I would choose to transfer back 10 Euro, leaving the other person with 15 Euro and me with 55 Euro.\n",
      "\n",
      "\n",
      "In this situation, I would choose to transfer back 10 Euro to the other person. This would leave me with 70 Euro and the other person with 10 Euro, which is a fair outcome that reflects the original transfer of 20 Euro from the other person.\n"
     ]
    }
   ],
   "source": [
    "prompts_positive = [\"\"\"Please consider the following situation: You and another person, whom\n",
    "you do not know, both participate in a study where you can decide on\n",
    "how to assign a certain amount of money and thereby determine the\n",
    "outcome. The rules are as follows. Both participants get an account with\n",
    "20 Euros. At the beginning, both participants thus own 20 Euros. The\n",
    "other person decides first. She can transfer money to your account. She\n",
    "can transfer any amount: 0, 1, 2 Euro, etc. up to 20 Euro. Each Euro\n",
    "that she transfers to you is tripled by the conductors of the study and\n",
    "booked to your account. After this first stage the other person therefore\n",
    "has 20 Euro minus the amount she transferred to you in her account. You\n",
    "have 20 Euro plus the tripled amount of the transfer of the other person\n",
    "on your account. Now you get to decide: you have the opportunity to\n",
    "transfer money back to the other person. You can transfer any amount up\n",
    "to 80 Euro, depending on how much you have in your account. This will\n",
    "be the end of the study and the account balances will be final. The other\n",
    "person has in her account 20 Euros minus the amount she transferred to\n",
    "you plus the amount you transferred back. You have 20 Euro plus the\n",
    "tripled amount of what the other person transferred to you minus the\n",
    "amount you transferred back to her. We would like to know how much\n",
    "you would choose to transfer back to the other person, for a given transfer\n",
    "of her to you.\n",
    "Suppose the other person transfers 5Euro to your account.\n",
    "After the first stage you then own 20+3*5= 35 Euro,\n",
    "the other person owns 20-5=15 Euro. What amount\n",
    "do you choose to transfer back?\"\"\",\n",
    "\"\"\"Please consider the following situation: You and another person, whom\n",
    "you do not know, both participate in a study where you can decide on\n",
    "how to assign a certain amount of money and thereby determine the\n",
    "outcome. The rules are as follows. Both participants get an account with\n",
    "20 Euros. At the beginning, both participants thus own 20 Euros. The\n",
    "other person decides first. She can transfer money to your account. She\n",
    "can transfer any amount: 0, 1, 2 Euro, etc. up to 20 Euro. Each Euro\n",
    "that she transfers to you is tripled by the conductors of the study and\n",
    "booked to your account. After this first stage the other person therefore\n",
    "has 20 Euro minus the amount she transferred to you in her account. You\n",
    "have 20 Euro plus the tripled amount of the transfer of the other person\n",
    "on your account. Now you get to decide: you have the opportunity to\n",
    "transfer money back to the other person. You can transfer any amount up\n",
    "to 80 Euro, depending on how much you have in your account. This will\n",
    "be the end of the study and the account balances will be final. The other\n",
    "person has in her account 20 Euros minus the amount she transferred to\n",
    "you plus the amount you transferred back. You have 20 Euro plus the\n",
    "tripled amount of what the other person transferred to you minus the\n",
    "amount you transferred back to her. We would like to know how much\n",
    "you would choose to transfer back to the other person, for a given transfer\n",
    "of her to you.\n",
    "Suppose the other person transfers 10 Euro to your account.\n",
    "After the first stage you then own 20+3*10 = 50 Euro,\n",
    "the other person owns 20-10 = 10 Euro. What amount\n",
    "do you choose to transfer back?\"\"\",\n",
    "\"\"\"Please consider the following situation: You and another person, whom\n",
    "you do not know, both participate in a study where you can decide on\n",
    "how to assign a certain amount of money and thereby determine the\n",
    "outcome. The rules are as follows. Both participants get an account with\n",
    "20 Euros. At the beginning, both participants thus own 20 Euros. The\n",
    "other person decides first. She can transfer money to your account. She\n",
    "can transfer any amount: 0, 1, 2 Euro, etc. up to 20 Euro. Each Euro\n",
    "that she transfers to you is tripled by the conductors of the study and\n",
    "booked to your account. After this first stage the other person therefore\n",
    "has 20 Euro minus the amount she transferred to you in her account. You\n",
    "have 20 Euro plus the tripled amount of the transfer of the other person\n",
    "on your account. Now you get to decide: you have the opportunity to\n",
    "transfer money back to the other person. You can transfer any amount up\n",
    "to 80 Euro, depending on how much you have in your account. This will\n",
    "be the end of the study and the account balances will be final. The other\n",
    "person has in her account 20 Euros minus the amount she transferred to\n",
    "you plus the amount you transferred back. You have 20 Euro plus the\n",
    "tripled amount of what the other person transferred to you minus the\n",
    "amount you transferred back to her. We would like to know how much\n",
    "you would choose to transfer back to the other person, for a given transfer\n",
    "of her to you.\n",
    "Suppose the other person transfers 15 Euro to your account.\n",
    "After the first stage you then own 20 + 3*15 = 65 Euro,\n",
    "the other person owns 10-15 = 5 Euro. What amount\n",
    "do you choose to transfer back?\"\"\",\n",
    "\"\"\"Please consider the following situation: You and another person, whom\n",
    "you do not know, both participate in a study where you can decide on\n",
    "how to assign a certain amount of money and thereby determine the\n",
    "outcome. The rules are as follows. Both participants get an account with\n",
    "20 Euros. At the beginning, both participants thus own 20 Euros. The\n",
    "other person decides first. She can transfer money to your account. She\n",
    "can transfer any amount: 0, 1, 2 Euro, etc. up to 20 Euro. Each Euro\n",
    "that she transfers to you is tripled by the conductors of the study and\n",
    "booked to your account. After this first stage the other person therefore\n",
    "has 20 Euro minus the amount she transferred to you in her account. You\n",
    "have 20 Euro plus the tripled amount of the transfer of the other person\n",
    "on your account. Now you get to decide: you have the opportunity to\n",
    "transfer money back to the other person. You can transfer any amount up\n",
    "to 80 Euro, depending on how much you have in your account. This will\n",
    "be the end of the study and the account balances will be final. The other\n",
    "person has in her account 20 Euros minus the amount she transferred to\n",
    "you plus the amount you transferred back. You have 20 Euro plus the\n",
    "tripled amount of what the other person transferred to you minus the\n",
    "amount you transferred back to her. We would like to know how much\n",
    "you would choose to transfer back to the other person, for a given transfer\n",
    "of her to you.\n",
    "Suppose the other person transfers 20 Euro to your account.\n",
    "After the first stage you then own 20 + 3*20 = 80 Euro,\n",
    "the other person owns 20-20 = 0 Euro. What amount\n",
    "do you choose to transfer back?\"\"\"]\n",
    "response = openai.Completion.create(\n",
    "  model=\"text-davinci-003\",\n",
    "  prompt=prompts_positive,\n",
    "  temperature=0.6,\n",
    "  max_tokens=64,\n",
    "  top_p=1,\n",
    "  frequency_penalty=0,\n",
    "  presence_penalty=0\n",
    ")\n",
    "\n",
    "for i in response['choices'][:]:\n",
    "    print(i['text'])"
   ]
  },
  {
   "cell_type": "code",
   "execution_count": 55,
   "metadata": {},
   "outputs": [
    {
     "name": "stdout",
     "output_type": "stream",
     "text": [
      "\n",
      "\n",
      "The bottle for 20 Euro.\n"
     ]
    }
   ],
   "source": [
    "prompt = \"\"\"Imagine the following situation: you are shopping in an unfamiliar city\n",
    "and realize you lost your way. You ask a stranger for directions. The\n",
    "stranger offers to take you with their car to your destination. The ride\n",
    "takes about 20 minutes and costs the stranger about 20 Euro in total.\n",
    "The stranger does not want money for it. You carry six bottles of wine\n",
    "with you. The cheapest bottle costs 5 Euro, the most expensive one 30\n",
    "Euro. You decide to give one of the bottles to the stranger as a thank-you\n",
    "gift. Which bottle do you give?\n",
    "(choose from the following options: The bottle for 5, 10,\n",
    "15, 20, 25, or 30 Euro)\"\"\"\n",
    "response = openai.Completion.create(\n",
    "  model=\"text-davinci-003\",\n",
    "  prompt=prompt,\n",
    "  temperature=0.6,\n",
    "  max_tokens=64,\n",
    "  top_p=1,\n",
    "  frequency_penalty=0,\n",
    "  presence_penalty=0\n",
    ")\n",
    "print(response['choices'][0]['text'])"
   ]
  },
  {
   "attachments": {},
   "cell_type": "markdown",
   "metadata": {},
   "source": [
    "### **Negative Reciprocity**"
   ]
  },
  {
   "cell_type": "code",
   "execution_count": 56,
   "metadata": {},
   "outputs": [
    {
     "name": "stdout",
     "output_type": "stream",
     "text": [
      "\n",
      "\n",
      "The minimum amount I would accept is 50 Euro.\n"
     ]
    }
   ],
   "source": [
    "prompt = \"\"\"Imagine the following situation: together with a person whom you do not\n",
    "know you won 100 Euro in a lottery. The rules stipulate the following:\n",
    "One of you has to make a proposal about how to divide the 100 Euro\n",
    "between you two. The other one gets to know the proposal and has to\n",
    "decide between two options. He or she can accept the proposal or reject\n",
    "it. If he or she accepts the proposal, the money is divided according\n",
    "to the proposal. If he or she rejects the proposal, both receive nothing.\n",
    "Assuming, the other person has to make a proposal about how to split\n",
    "the money, and you have to decide about whether to accept or reject the\n",
    "proposal. What is the minimum amount the other person has to offer\n",
    "you so that you are willing to accept it? (Values between 0 and 100 are\n",
    "allowed.)\"\"\"\n",
    "response = openai.Completion.create(\n",
    "  model=\"text-davinci-003\",\n",
    "  prompt=prompt,\n",
    "  temperature=0.6,\n",
    "  max_tokens=64,\n",
    "  top_p=1,\n",
    "  frequency_penalty=0,\n",
    "  presence_penalty=0\n",
    ")\n",
    "print(response['choices'][0]['text'])"
   ]
  },
  {
   "attachments": {},
   "cell_type": "markdown",
   "metadata": {},
   "source": [
    "ask GPT to decide on a scale , describe itself with its own words \n",
    "\n",
    "framing effects but not the same ones as for humans \n"
   ]
  },
  {
   "cell_type": "code",
   "execution_count": 57,
   "metadata": {},
   "outputs": [
    {
     "name": "stdout",
     "output_type": "stream",
     "text": [
      "\n",
      "\n",
      "I would rate myself a 7. I believe in fairness and justice, but I also recognize that it is not always worth it to incur costs to punish unfair behavior.\n"
     ]
    }
   ],
   "source": [
    "prompt = \"\"\"How do you see yourself: Are you a person who is generally willing to\n",
    "punish unfair behavior even if this is costly? Please use a scale from 0\n",
    "to 10, where 10 means you are not willing at all to incur costs to punish\n",
    "unfair behavior and a 0 means you are very willing to incur costs\n",
    "to punish unfair behavior. You can also use the values in-between to\n",
    "indicate where you fall on the scale.\"\"\"\n",
    "response = openai.Completion.create(\n",
    "  model=\"text-davinci-003\",\n",
    "  prompt=prompt,\n",
    "  temperature=0.6,\n",
    "  max_tokens=64,\n",
    "  top_p=1,\n",
    "  frequency_penalty=0,\n",
    "  presence_penalty=0\n",
    ")\n",
    "print(response['choices'][0]['text'])"
   ]
  },
  {
   "cell_type": "code",
   "execution_count": 59,
   "metadata": {},
   "outputs": [
    {
     "ename": "AttributeError",
     "evalue": "'SimpleQuestion' object has no attribute 'option'",
     "output_type": "error",
     "traceback": [
      "\u001b[1;31m---------------------------------------------------------------------------\u001b[0m",
      "\u001b[1;31mAttributeError\u001b[0m                            Traceback (most recent call last)",
      "Cell \u001b[1;32mIn[59], line 4\u001b[0m\n\u001b[0;32m      1\u001b[0m \u001b[39mfrom\u001b[39;00m \u001b[39mprompting\u001b[39;00m \u001b[39mimport\u001b[39;00m \u001b[39m*\u001b[39m \n\u001b[0;32m      3\u001b[0m test \u001b[39m=\u001b[39m SimpleQuestion(prompt\u001b[39m=\u001b[39m\u001b[39m'\u001b[39m\u001b[39mhow are you\u001b[39m\u001b[39m'\u001b[39m)\n\u001b[1;32m----> 4\u001b[0m test\u001b[39m.\u001b[39;49mwrite_answer()\n",
      "File \u001b[1;32mc:\\Users\\faune\\Documents\\GitHub\\openai-quickstart-python\\prompting.py:60\u001b[0m, in \u001b[0;36mSimpleQuestion.write_answer\u001b[1;34m(self)\u001b[0m\n\u001b[0;32m     58\u001b[0m         yaml_file \u001b[39m=\u001b[39m \u001b[39mopen\u001b[39m(\u001b[39m\"\u001b[39m\u001b[39manswers.yaml\u001b[39m\u001b[39m\"\u001b[39m, \u001b[39m\"\u001b[39m\u001b[39ma\u001b[39m\u001b[39m\"\u001b[39m)\n\u001b[0;32m     59\u001b[0m         d \u001b[39m=\u001b[39m \u001b[39mdict\u001b[39m()\n\u001b[1;32m---> 60\u001b[0m         d[\u001b[39m\"\u001b[39m\u001b[39moptions\u001b[39m\u001b[39m\"\u001b[39m] \u001b[39m=\u001b[39m \u001b[39mself\u001b[39;49m\u001b[39m.\u001b[39;49moption\u001b[39m.\u001b[39mtemperature\n\u001b[0;32m     61\u001b[0m         yaml_file\u001b[39m.\u001b[39mwrite(\n\u001b[0;32m     62\u001b[0m            \u001b[39mf\u001b[39m\u001b[39m'''\u001b[39m\n\u001b[0;32m     63\u001b[0m \u001b[39moptions : \u001b[39m\n\u001b[1;32m   (...)\u001b[0m\n\u001b[0;32m     69\u001b[0m             \n\u001b[0;32m     70\u001b[0m         )\n\u001b[0;32m     71\u001b[0m         yaml_file\u001b[39m.\u001b[39mwrite(\n\u001b[0;32m     72\u001b[0m             \u001b[39mf\u001b[39m\u001b[39m'''\u001b[39m\n\u001b[0;32m     73\u001b[0m \u001b[39mquestion : \u001b[39m\n\u001b[1;32m   (...)\u001b[0m\n\u001b[0;32m     76\u001b[0m \u001b[39m            \u001b[39m\u001b[39m'''\u001b[39m \n\u001b[0;32m     77\u001b[0m             )\n",
      "\u001b[1;31mAttributeError\u001b[0m: 'SimpleQuestion' object has no attribute 'option'"
     ]
    }
   ],
   "source": [
    "from prompting import * \n",
    "\n",
    "test = SimpleQuestion(prompt='how are you')\n",
    "test.write_answer()"
   ]
  },
  {
   "cell_type": "code",
   "execution_count": 60,
   "metadata": {},
   "outputs": [
    {
     "ename": "NameError",
     "evalue": "name 'survey' is not defined",
     "output_type": "error",
     "traceback": [
      "\u001b[1;31m---------------------------------------------------------------------------\u001b[0m",
      "\u001b[1;31mNameError\u001b[0m                                 Traceback (most recent call last)",
      "Cell \u001b[1;32mIn[60], line 1\u001b[0m\n\u001b[1;32m----> 1\u001b[0m survey\u001b[39m.\u001b[39myaml[questions]\n",
      "\u001b[1;31mNameError\u001b[0m: name 'survey' is not defined"
     ]
    }
   ],
   "source": [
    "survey.yaml[questions]"
   ]
  },
  {
   "cell_type": "code",
   "execution_count": 1,
   "metadata": {},
   "outputs": [],
   "source": [
    "import yaml \n",
    "from prompting import * \n",
    "with open('survey.yaml', 'r') as file:\n",
    "    survey = yaml.safe_load(file)"
   ]
  },
  {
   "cell_type": "code",
   "execution_count": 2,
   "metadata": {},
   "outputs": [],
   "source": [
    "options = Options(**survey['survey']['options'])"
   ]
  },
  {
   "cell_type": "code",
   "execution_count": 3,
   "metadata": {},
   "outputs": [
    {
     "data": {
      "text/plain": [
       "Options(temperature=0.6, max_tokens=64, model='text-davinci-003', n=1, logprobs=5)"
      ]
     },
     "execution_count": 3,
     "metadata": {},
     "output_type": "execute_result"
    }
   ],
   "source": [
    "options"
   ]
  },
  {
   "cell_type": "code",
   "execution_count": 3,
   "metadata": {},
   "outputs": [
    {
     "ename": "TypeError",
     "evalue": "expected string or bytes-like object",
     "output_type": "error",
     "traceback": [
      "\u001b[1;31m---------------------------------------------------------------------------\u001b[0m",
      "\u001b[1;31mTypeError\u001b[0m                                 Traceback (most recent call last)",
      "Cell \u001b[1;32mIn[3], line 3\u001b[0m\n\u001b[0;32m      1\u001b[0m questions \u001b[39m=\u001b[39m ScaleQuestion(prompt\u001b[39m=\u001b[39msurvey[\u001b[39m'\u001b[39m\u001b[39msurvey\u001b[39m\u001b[39m'\u001b[39m][\u001b[39m'\u001b[39m\u001b[39mquestions\u001b[39m\u001b[39m'\u001b[39m][\u001b[39m'\u001b[39m\u001b[39mrisk_aversion2\u001b[39m\u001b[39m'\u001b[39m][\u001b[39m'\u001b[39m\u001b[39mprompt\u001b[39m\u001b[39m'\u001b[39m], name\u001b[39m=\u001b[39m survey[\u001b[39m'\u001b[39m\u001b[39msurvey\u001b[39m\u001b[39m'\u001b[39m][\u001b[39m'\u001b[39m\u001b[39mquestions\u001b[39m\u001b[39m'\u001b[39m][\u001b[39m'\u001b[39m\u001b[39mrisk_aversion2\u001b[39m\u001b[39m'\u001b[39m], amounts \u001b[39m=\u001b[39m \u001b[39mrange\u001b[39m (\u001b[39m0\u001b[39m,\u001b[39m310\u001b[39m,\u001b[39m10\u001b[39m), \u001b[39mtype\u001b[39m\u001b[39m=\u001b[39m survey[\u001b[39m'\u001b[39m\u001b[39msurvey\u001b[39m\u001b[39m'\u001b[39m][\u001b[39m'\u001b[39m\u001b[39mquestions\u001b[39m\u001b[39m'\u001b[39m][\u001b[39m'\u001b[39m\u001b[39mrisk_aversion2\u001b[39m\u001b[39m'\u001b[39m][\u001b[39m'\u001b[39m\u001b[39mextraction\u001b[39m\u001b[39m'\u001b[39m])\n\u001b[1;32m----> 3\u001b[0m question_answers \u001b[39m=\u001b[39m questions\u001b[39m.\u001b[39;49mextract_answer()\n\u001b[0;32m      4\u001b[0m question_answers\n",
      "File \u001b[1;32mc:\\Users\\faune\\Documents\\GitHub\\openai-quickstart-python\\prompting.py:49\u001b[0m, in \u001b[0;36mQuestion.extract_answer\u001b[1;34m(self)\u001b[0m\n\u001b[0;32m     47\u001b[0m \u001b[39mdef\u001b[39;00m \u001b[39mextract_answer\u001b[39m(\u001b[39mself\u001b[39m): \n\u001b[0;32m     48\u001b[0m     \u001b[39mif\u001b[39;00m \u001b[39mself\u001b[39m\u001b[39m.\u001b[39mtype \u001b[39m==\u001b[39m \u001b[39m'\u001b[39m\u001b[39mNumerical\u001b[39m\u001b[39m'\u001b[39m:\n\u001b[1;32m---> 49\u001b[0m        extracted_answer \u001b[39m=\u001b[39m re\u001b[39m.\u001b[39;49mfindall(\u001b[39mr\u001b[39;49m\u001b[39m'\u001b[39;49m\u001b[39m\\\u001b[39;49m\u001b[39md+\u001b[39;49m\u001b[39m'\u001b[39;49m, \u001b[39mself\u001b[39;49m\u001b[39m.\u001b[39;49mask())\n\u001b[0;32m     50\u001b[0m     \u001b[39melif\u001b[39;00m \u001b[39mself\u001b[39m\u001b[39m.\u001b[39mtype \u001b[39m==\u001b[39m \u001b[39m'\u001b[39m\u001b[39mYes or No\u001b[39m\u001b[39m'\u001b[39m:\n\u001b[0;32m     51\u001b[0m         extracted_answer \u001b[39m=\u001b[39mre\u001b[39m.\u001b[39mfindall(\u001b[39mr\u001b[39m\u001b[39m'\u001b[39m\u001b[39myes|no\u001b[39m\u001b[39m'\u001b[39m, \u001b[39mself\u001b[39m\u001b[39m.\u001b[39mask, re\u001b[39m.\u001b[39mIGNORECASE)\n",
      "File \u001b[1;32mc:\\Users\\faune\\anaconda3\\lib\\re.py:240\u001b[0m, in \u001b[0;36mfindall\u001b[1;34m(pattern, string, flags)\u001b[0m\n\u001b[0;32m    232\u001b[0m \u001b[39mdef\u001b[39;00m \u001b[39mfindall\u001b[39m(pattern, string, flags\u001b[39m=\u001b[39m\u001b[39m0\u001b[39m):\n\u001b[0;32m    233\u001b[0m     \u001b[39m\"\"\"Return a list of all non-overlapping matches in the string.\u001b[39;00m\n\u001b[0;32m    234\u001b[0m \n\u001b[0;32m    235\u001b[0m \u001b[39m    If one or more capturing groups are present in the pattern, return\u001b[39;00m\n\u001b[1;32m   (...)\u001b[0m\n\u001b[0;32m    238\u001b[0m \n\u001b[0;32m    239\u001b[0m \u001b[39m    Empty matches are included in the result.\"\"\"\u001b[39;00m\n\u001b[1;32m--> 240\u001b[0m     \u001b[39mreturn\u001b[39;00m _compile(pattern, flags)\u001b[39m.\u001b[39;49mfindall(string)\n",
      "\u001b[1;31mTypeError\u001b[0m: expected string or bytes-like object"
     ]
    }
   ],
   "source": [
    "questions = ScaleQuestion(prompt=survey['survey']['questions']['risk_aversion2']['prompt'], name= survey['survey']['questions']['risk_aversion2'], amounts = range (0,310,10), type= survey['survey']['questions']['risk_aversion2']['extraction'])\n",
    "\n",
    "question_answers = questions.extract_answer()\n",
    "question_answers"
   ]
  },
  {
   "cell_type": "code",
   "execution_count": 6,
   "metadata": {},
   "outputs": [],
   "source": [
    "questions = []\n",
    "for k,v in survey['survey']['questions'].items():\n",
    "    prompt = v['prompt']\n",
    "    if v['type'] == 'unique':\n",
    "        q = UniqueQuestion(prompt=prompt, name = k, type=v['extraction'])\n",
    "    elif v['type'] == 'scale':\n",
    "        q = ScaleQuestion(prompt=prompt, name= k, amounts = eval(v['amount']), type=v['extraction'])\n",
    "    questions.append(q)\n"
   ]
  },
  {
   "cell_type": "code",
   "execution_count": 7,
   "metadata": {},
   "outputs": [
    {
     "data": {
      "text/plain": [
       "[<prompting.UniqueQuestion at 0x2164558f6d0>,\n",
       " <prompting.UniqueQuestion at 0x2164558f8e0>,\n",
       " <prompting.UniqueQuestion at 0x2164345a680>,\n",
       " <prompting.ScaleQuestion at 0x2164345a830>,\n",
       " <prompting.UniqueQuestion at 0x216455c0a00>,\n",
       " <prompting.ScaleQuestion at 0x216455c16c0>,\n",
       " <prompting.UniqueQuestion at 0x216455c0f10>,\n",
       " <prompting.UniqueQuestion at 0x216455c0c10>,\n",
       " <prompting.ScaleQuestion at 0x216455c07f0>,\n",
       " <prompting.UniqueQuestion at 0x216455c1330>,\n",
       " <prompting.UniqueQuestion at 0x216455c1510>,\n",
       " <prompting.UniqueQuestion at 0x216455c09d0>]"
      ]
     },
     "execution_count": 7,
     "metadata": {},
     "output_type": "execute_result"
    }
   ],
   "source": [
    "questions"
   ]
  },
  {
   "cell_type": "code",
   "execution_count": 8,
   "metadata": {},
   "outputs": [],
   "source": [
    "survey = Survey(questions=questions, options=options)\n"
   ]
  },
  {
   "cell_type": "code",
   "execution_count": 9,
   "metadata": {},
   "outputs": [],
   "source": [
    "results = survey.run()"
   ]
  },
  {
   "cell_type": "code",
   "execution_count": 10,
   "metadata": {},
   "outputs": [],
   "source": [
    "res = {\n",
    "    'survey' : survey,\n",
    "    'results' : results\n",
    "}"
   ]
  },
  {
   "cell_type": "code",
   "execution_count": 24,
   "metadata": {},
   "outputs": [],
   "source": [
    "# res"
   ]
  },
  {
   "cell_type": "code",
   "execution_count": 12,
   "metadata": {},
   "outputs": [],
   "source": [
    "with open('answers.yaml', 'w') as outfile:\n",
    "    yaml.dump(res, outfile, default_flow_style=False)"
   ]
  },
  {
   "cell_type": "code",
   "execution_count": null,
   "metadata": {},
   "outputs": [],
   "source": []
  },
  {
   "cell_type": "code",
   "execution_count": null,
   "metadata": {},
   "outputs": [],
   "source": [
    "s = \"Next {i:.2f} is\" "
   ]
  },
  {
   "cell_type": "code",
   "execution_count": null,
   "metadata": {},
   "outputs": [
    {
     "data": {
      "text/plain": [
       "'Next 9.00 is'"
      ]
     },
     "execution_count": 7,
     "metadata": {},
     "output_type": "execute_result"
    }
   ],
   "source": [
    "s.format(i=9)"
   ]
  },
  {
   "cell_type": "code",
   "execution_count": 12,
   "metadata": {},
   "outputs": [],
   "source": [
    "from string import Template"
   ]
  },
  {
   "cell_type": "code",
   "execution_count": 24,
   "metadata": {},
   "outputs": [],
   "source": [
    "tmp = Template(\"Next $amount is\")"
   ]
  },
  {
   "cell_type": "code",
   "execution_count": 31,
   "metadata": {},
   "outputs": [],
   "source": [
    "question_list = []\n",
    "for i in range(10):\n",
    "    question_list.append(tmp.substitute(amount=i))"
   ]
  },
  {
   "cell_type": "code",
   "execution_count": 32,
   "metadata": {},
   "outputs": [
    {
     "data": {
      "text/plain": [
       "['Next 0 is',\n",
       " 'Next 1 is',\n",
       " 'Next 2 is',\n",
       " 'Next 3 is',\n",
       " 'Next 4 is',\n",
       " 'Next 5 is',\n",
       " 'Next 6 is',\n",
       " 'Next 7 is',\n",
       " 'Next 8 is',\n",
       " 'Next 9 is']"
      ]
     },
     "execution_count": 32,
     "metadata": {},
     "output_type": "execute_result"
    }
   ],
   "source": [
    "question_list"
   ]
  },
  {
   "cell_type": "code",
   "execution_count": 18,
   "metadata": {},
   "outputs": [
    {
     "data": {
      "text/plain": [
       "[0, 1]"
      ]
     },
     "execution_count": 18,
     "metadata": {},
     "output_type": "execute_result"
    }
   ],
   "source": [
    "eval(\"[i**2 for i in range(2)]\")"
   ]
  },
  {
   "cell_type": "code",
   "execution_count": 4,
   "metadata": {},
   "outputs": [],
   "source": [
    "import re \n",
    "test = re.findall(r'\\d+', '\\n\\n\\ngjnrei43  salut jen veux 3 ')\n",
    "# test = re.findall(r'yes|no', 'my answer is Yes', re.IGNORECASE)"
   ]
  },
  {
   "cell_type": "code",
   "execution_count": 5,
   "metadata": {},
   "outputs": [
    {
     "data": {
      "text/plain": [
       "'43'"
      ]
     },
     "execution_count": 5,
     "metadata": {},
     "output_type": "execute_result"
    }
   ],
   "source": [
    "test[0]"
   ]
  },
  {
   "cell_type": "code",
   "execution_count": null,
   "metadata": {},
   "outputs": [],
   "source": []
  }
 ],
 "metadata": {
  "kernelspec": {
   "display_name": "base",
   "language": "python",
   "name": "python3"
  },
  "language_info": {
   "codemirror_mode": {
    "name": "ipython",
    "version": 3
   },
   "file_extension": ".py",
   "mimetype": "text/x-python",
   "name": "python",
   "nbconvert_exporter": "python",
   "pygments_lexer": "ipython3",
   "version": "3.10.9"
  },
  "orig_nbformat": 4
 },
 "nbformat": 4,
 "nbformat_minor": 2
}
